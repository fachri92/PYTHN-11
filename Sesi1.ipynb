{
 "cells": [
  {
   "cell_type": "markdown",
   "id": "db4c22a0-28f0-4403-9651-f32141f4932d",
   "metadata": {},
   "source": [
    "## Integer = Bilangan Bulat"
   ]
  },
  {
   "cell_type": "code",
   "execution_count": 7,
   "id": "81df9486-c4b5-4bb5-aa05-3acceafae912",
   "metadata": {},
   "outputs": [
    {
     "name": "stdout",
     "output_type": "stream",
     "text": [
      "1000000000000\n"
     ]
    }
   ],
   "source": [
    "print(1000000000000)"
   ]
  },
  {
   "cell_type": "code",
   "execution_count": 11,
   "id": "973180fe-ef92-45c0-9b6e-8074bbb37e1a",
   "metadata": {},
   "outputs": [
    {
     "name": "stdout",
     "output_type": "stream",
     "text": [
      "<class 'int'>\n"
     ]
    }
   ],
   "source": [
    "print(type(3))"
   ]
  },
  {
   "cell_type": "markdown",
   "id": "cdd98bfa-6c5c-40a9-a84f-69ad7617d419",
   "metadata": {},
   "source": [
    "## Float"
   ]
  },
  {
   "cell_type": "code",
   "execution_count": 15,
   "id": "5d371f92-2294-42f0-8b16-554c9ee1efef",
   "metadata": {},
   "outputs": [
    {
     "name": "stdout",
     "output_type": "stream",
     "text": [
      "3.5\n",
      "2.3\n"
     ]
    }
   ],
   "source": [
    "print(3.5)\n",
    "print(2.3)"
   ]
  },
  {
   "cell_type": "code",
   "execution_count": 16,
   "id": "3bb2baed-cd70-4edd-a7bb-5697f2a0b673",
   "metadata": {},
   "outputs": [
    {
     "name": "stdout",
     "output_type": "stream",
     "text": [
      "<class 'float'>\n"
     ]
    }
   ],
   "source": [
    "print(type(2.3))"
   ]
  },
  {
   "cell_type": "code",
   "execution_count": 17,
   "id": "11f041f2-5d95-4367-b428-4f7888a85819",
   "metadata": {},
   "outputs": [
    {
     "name": "stdout",
     "output_type": "stream",
     "text": [
      "0.00042\n"
     ]
    }
   ],
   "source": [
    "print(4.2e-4)"
   ]
  },
  {
   "cell_type": "code",
   "execution_count": 19,
   "id": "2823e0e9-86bc-4fa5-b1ab-7f7b0fa959ef",
   "metadata": {},
   "outputs": [
    {
     "name": "stdout",
     "output_type": "stream",
     "text": [
      "<class 'float'>\n"
     ]
    }
   ],
   "source": [
    "print(type(4.2e7))"
   ]
  },
  {
   "cell_type": "markdown",
   "id": "9139ef0e-9626-4c9c-83ec-6510391ad0ea",
   "metadata": {},
   "source": [
    "## String"
   ]
  },
  {
   "cell_type": "code",
   "execution_count": 20,
   "id": "1c94c0dc-b018-4c39-9dc6-463727d7461a",
   "metadata": {},
   "outputs": [
    {
     "name": "stdout",
     "output_type": "stream",
     "text": [
      "Nama Saya adalah Fachri\n"
     ]
    }
   ],
   "source": [
    "print(\"Nama Saya adalah Fachri\")"
   ]
  },
  {
   "cell_type": "code",
   "execution_count": 21,
   "id": "8662c7a5-52ff-4a29-9908-41fcd28b022e",
   "metadata": {},
   "outputs": [
    {
     "name": "stdout",
     "output_type": "stream",
     "text": [
      "Budi bermain bola\n"
     ]
    }
   ],
   "source": [
    "print('Budi bermain bola')"
   ]
  },
  {
   "cell_type": "code",
   "execution_count": 22,
   "id": "23eb4939-cb30-416c-8177-8c8a32dd976e",
   "metadata": {},
   "outputs": [
    {
     "name": "stdout",
     "output_type": "stream",
     "text": [
      "<class 'str'>\n"
     ]
    }
   ],
   "source": [
    "print(type('Budi bermain bola'))"
   ]
  },
  {
   "cell_type": "markdown",
   "id": "51ab219e-172a-4bb2-81ac-ee593d0117f5",
   "metadata": {},
   "source": [
    "## Boolean"
   ]
  },
  {
   "cell_type": "code",
   "execution_count": 23,
   "id": "a77b565f-d843-4d4f-9859-ffaee92f2911",
   "metadata": {},
   "outputs": [
    {
     "data": {
      "text/plain": [
       "False"
      ]
     },
     "execution_count": 23,
     "metadata": {},
     "output_type": "execute_result"
    }
   ],
   "source": [
    "True\n",
    "False"
   ]
  },
  {
   "cell_type": "code",
   "execution_count": 25,
   "id": "a1d10ee9-baa7-44fe-ad10-f100c4bfb096",
   "metadata": {},
   "outputs": [
    {
     "name": "stdout",
     "output_type": "stream",
     "text": [
      "True\n"
     ]
    }
   ],
   "source": [
    "print(True)"
   ]
  },
  {
   "cell_type": "code",
   "execution_count": 26,
   "id": "88ff3385-d45e-4cca-bb8e-1c827e188b7e",
   "metadata": {},
   "outputs": [
    {
     "name": "stdout",
     "output_type": "stream",
     "text": [
      "False\n"
     ]
    }
   ],
   "source": [
    "print(False)"
   ]
  },
  {
   "cell_type": "code",
   "execution_count": 27,
   "id": "c091afed-c500-4ef4-bce0-8767b98aaa70",
   "metadata": {},
   "outputs": [
    {
     "name": "stdout",
     "output_type": "stream",
     "text": [
      "<class 'bool'>\n"
     ]
    }
   ],
   "source": [
    "print(type(True))"
   ]
  },
  {
   "cell_type": "markdown",
   "id": "35bc891d-877b-4b8f-9c44-0bc6f76d7e8a",
   "metadata": {},
   "source": [
    "Ada 4 data types yang paling sering digunakan\"\n",
    "* Integer\n",
    "* Float\n",
    "* String\n",
    "* Boolean"
   ]
  },
  {
   "cell_type": "markdown",
   "id": "1f38cb39-e24b-404f-a458-78c0665a292b",
   "metadata": {},
   "source": [
    "# Variable Assignment"
   ]
  },
  {
   "cell_type": "code",
   "execution_count": 31,
   "id": "b7997922-0c7a-40b7-a93d-bf5c732603d4",
   "metadata": {},
   "outputs": [
    {
     "name": "stdout",
     "output_type": "stream",
     "text": [
      "300\n",
      "<class 'int'>\n",
      "<class 'int'>\n"
     ]
    }
   ],
   "source": [
    "angka = 300\n",
    "print(angka)\n",
    "print(type(angka))\n",
    "print(type(300))"
   ]
  },
  {
   "cell_type": "code",
   "execution_count": 32,
   "id": "62bb437b-f8a4-4e06-a8c3-26d101cbfa6f",
   "metadata": {},
   "outputs": [
    {
     "name": "stdout",
     "output_type": "stream",
     "text": [
      "haha\n",
      "<class 'str'>\n"
     ]
    }
   ],
   "source": [
    "teks = 'haha'\n",
    "print(teks)\n",
    "print(type(teks))"
   ]
  },
  {
   "cell_type": "code",
   "execution_count": 33,
   "id": "c4624286-1795-42d1-8953-9d72dd8f9b87",
   "metadata": {},
   "outputs": [
    {
     "name": "stdout",
     "output_type": "stream",
     "text": [
      "300 300 300\n"
     ]
    }
   ],
   "source": [
    "a = b = c = 300\n",
    "print(a,b,c)"
   ]
  },
  {
   "cell_type": "code",
   "execution_count": 36,
   "id": "a4d7e3c3-f28b-4451-ba6c-ea8f48c03163",
   "metadata": {},
   "outputs": [
    {
     "name": "stdout",
     "output_type": "stream",
     "text": [
      "<class 'int'>\n"
     ]
    }
   ],
   "source": [
    "print(type(b))"
   ]
  },
  {
   "cell_type": "code",
   "execution_count": 40,
   "id": "491679ce-ed77-4d1a-b22a-5d1403b26c41",
   "metadata": {},
   "outputs": [],
   "source": [
    "rumah = 'Bekasi'\n",
    "Rumah = 'Jakarta'"
   ]
  },
  {
   "cell_type": "code",
   "execution_count": 41,
   "id": "15e43169-f3a3-4c8c-8d92-8f2424bc6562",
   "metadata": {},
   "outputs": [
    {
     "name": "stdout",
     "output_type": "stream",
     "text": [
      "Bekasi Jakarta\n"
     ]
    }
   ],
   "source": [
    "print(rumah, Rumah)"
   ]
  },
  {
   "cell_type": "markdown",
   "id": "944fc1bb-2e94-4c90-81e0-13f4585275d4",
   "metadata": {},
   "source": [
    "ctrl + / untuk comment"
   ]
  },
  {
   "cell_type": "code",
   "execution_count": 46,
   "id": "6cfc74f2-bd95-4af6-8033-644e9b794f8e",
   "metadata": {},
   "outputs": [],
   "source": [
    "# Nama variabel tidak diperbolehkan dimulai dengan angka\n",
    "# 0_Rumah='a'"
   ]
  },
  {
   "cell_type": "code",
   "execution_count": 44,
   "id": "ca012220-28ce-438e-9638-e2820ee6b808",
   "metadata": {},
   "outputs": [],
   "source": [
    "# rumah = 'budi'"
   ]
  },
  {
   "cell_type": "code",
   "execution_count": 45,
   "id": "51b6febc-198a-4897-88c4-e4dabc56c13b",
   "metadata": {},
   "outputs": [
    {
     "name": "stdout",
     "output_type": "stream",
     "text": [
      "Bekasi\n"
     ]
    }
   ],
   "source": [
    "print(rumah)"
   ]
  },
  {
   "cell_type": "markdown",
   "id": "376129a5-5e6c-4dff-8647-e09ce551c26b",
   "metadata": {},
   "source": [
    "## Arithmetic Operators"
   ]
  },
  {
   "cell_type": "code",
   "execution_count": 48,
   "id": "8707a463-58a3-43cf-a06e-c9f93e83c7b9",
   "metadata": {},
   "outputs": [
    {
     "name": "stdout",
     "output_type": "stream",
     "text": [
      "30\n"
     ]
    }
   ],
   "source": [
    "a = 10\n",
    "b = 20\n",
    "print(a+b)"
   ]
  },
  {
   "cell_type": "code",
   "execution_count": 49,
   "id": "3a903791-f0fd-4b7b-b774-2e475c312da3",
   "metadata": {},
   "outputs": [
    {
     "name": "stdout",
     "output_type": "stream",
     "text": [
      "-10\n"
     ]
    }
   ],
   "source": [
    "# Pengurangan\n",
    "print(a-b)"
   ]
  },
  {
   "cell_type": "code",
   "execution_count": 50,
   "id": "fb72a737-934d-4972-b06f-adf7bcebef12",
   "metadata": {},
   "outputs": [
    {
     "name": "stdout",
     "output_type": "stream",
     "text": [
      "200\n"
     ]
    }
   ],
   "source": [
    "# Perkalian\n",
    "print(a*b)"
   ]
  },
  {
   "cell_type": "code",
   "execution_count": 54,
   "id": "cbf97f78-4fd7-41ac-8e05-ae57cebd1a20",
   "metadata": {},
   "outputs": [
    {
     "name": "stdout",
     "output_type": "stream",
     "text": [
      "0.5\n",
      "0\n",
      "1.5\n",
      "1\n",
      "<class 'float'>\n",
      "<class 'int'>\n"
     ]
    }
   ],
   "source": [
    "# Pembagian\n",
    "print(a/b)\n",
    "print(a//b)\n",
    "print(3/2)\n",
    "print(3//2)\n",
    "print(type(3/2))\n",
    "print(type(3//2))"
   ]
  },
  {
   "cell_type": "code",
   "execution_count": 57,
   "id": "1e50db72-32fe-4550-8558-21b7cc3ae1ad",
   "metadata": {},
   "outputs": [
    {
     "name": "stdout",
     "output_type": "stream",
     "text": [
      "3.5\n",
      "1\n",
      "1\n",
      "0\n"
     ]
    }
   ],
   "source": [
    "# Modulo (%)\n",
    "print(7/2)\n",
    "print(7%2)\n",
    "print(11%2)\n",
    "print(10%2)"
   ]
  },
  {
   "cell_type": "code",
   "execution_count": 59,
   "id": "0469fc64-5d02-4968-b7e9-1f6f4b1e3173",
   "metadata": {},
   "outputs": [
    {
     "name": "stdout",
     "output_type": "stream",
     "text": [
      "49\n",
      "4\n"
     ]
    }
   ],
   "source": [
    "# Pangkat (**)\n",
    "print(7**2)\n",
    "print(2**2)"
   ]
  },
  {
   "cell_type": "markdown",
   "id": "6929cb91-a98b-4b3b-9856-a567a3d6a96f",
   "metadata": {},
   "source": [
    "## Quiz 1 30 derajat celsius ke fahrenheit"
   ]
  },
  {
   "cell_type": "code",
   "execution_count": null,
   "id": "02fff794-71ac-4d7a-8b3f-dbe7f77f0d97",
   "metadata": {},
   "outputs": [],
   "source": [
    "c = \n",
    "f = \n",
    "print(f)"
   ]
  },
  {
   "cell_type": "markdown",
   "id": "8c97036f-99e8-402d-9967-9f4c08c6aaf2",
   "metadata": {},
   "source": [
    "## Comparison Operators"
   ]
  },
  {
   "cell_type": "code",
   "execution_count": 75,
   "id": "1230a9a4-3c8c-4b20-a7c3-b0bebcfe1722",
   "metadata": {},
   "outputs": [],
   "source": [
    "c = 10\n",
    "d = 30\n",
    "e = 10\n",
    "f = 20"
   ]
  },
  {
   "cell_type": "code",
   "execution_count": 70,
   "id": "19b6e90c-f309-448a-806c-264971a880b0",
   "metadata": {},
   "outputs": [],
   "source": [
    "rumah1= 'bekasi'\n",
    "rumah2 = 'jakarta'\n",
    "rumah3='jakarta'"
   ]
  },
  {
   "cell_type": "code",
   "execution_count": 73,
   "id": "00a468f1-309b-4f65-bbdf-3ec54734c47e",
   "metadata": {},
   "outputs": [
    {
     "name": "stdout",
     "output_type": "stream",
     "text": [
      "False\n",
      "True\n",
      "True\n"
     ]
    }
   ],
   "source": [
    "# Persamaan (==)\n",
    "print(c==d)\n",
    "print(c==e)\n",
    "print(rumah2==rumah3)"
   ]
  },
  {
   "cell_type": "code",
   "execution_count": 68,
   "id": "cd980d0a-1776-4706-abaf-79e58024cb0a",
   "metadata": {},
   "outputs": [
    {
     "name": "stdout",
     "output_type": "stream",
     "text": [
      "False\n",
      "True\n",
      "False\n",
      "True\n",
      "True\n",
      "True\n"
     ]
    }
   ],
   "source": [
    "# Lebih dari atau kurang dari\n",
    "print(c>d)\n",
    "print(c<d)\n",
    "print(c>=d)\n",
    "print(c<=d)\n",
    "print(c<=e)\n",
    "print(c>=e)"
   ]
  },
  {
   "cell_type": "code",
   "execution_count": 74,
   "id": "967dd291-3b4d-471a-8004-93dead380fae",
   "metadata": {},
   "outputs": [
    {
     "name": "stdout",
     "output_type": "stream",
     "text": [
      "True\n",
      "False\n",
      "True\n"
     ]
    }
   ],
   "source": [
    "# TIdak sama dengan / Not Equal (!=)\n",
    "print(c!=d)\n",
    "print(c!=e)\n",
    "print(rumah1!=rumah2)"
   ]
  },
  {
   "cell_type": "markdown",
   "id": "9b3d1b0b-0e80-49ee-8b14-3604c17f7ad3",
   "metadata": {},
   "source": [
    "## String Manipulation"
   ]
  },
  {
   "cell_type": "code",
   "execution_count": 85,
   "id": "1936dc3d-29db-408f-88ea-d8b619c38fbb",
   "metadata": {},
   "outputs": [
    {
     "name": "stdout",
     "output_type": "stream",
     "text": [
      "barfoo\n",
      "foobarbaz\n"
     ]
    }
   ],
   "source": [
    "# Operator +\n",
    "s = 'foo'\n",
    "t = 'bar'\n",
    "u = 'baz'\n",
    "\n",
    "print(t+s)\n",
    "\n",
    "print(s+t+u)"
   ]
  },
  {
   "cell_type": "code",
   "execution_count": 87,
   "id": "70d06d65-ab84-4d86-9bee-63ac69915cdd",
   "metadata": {},
   "outputs": [
    {
     "name": "stdout",
     "output_type": "stream",
     "text": [
      "foofoofoofoofoofoofoofoofoofoo\n"
     ]
    }
   ],
   "source": [
    "# Operator *\n",
    "print(s*10)"
   ]
  },
  {
   "cell_type": "code",
   "execution_count": 88,
   "id": "b096fa71-5446-4c65-9708-48633d5e7c6e",
   "metadata": {},
   "outputs": [
    {
     "name": "stdout",
     "output_type": "stream",
     "text": [
      "True\n",
      "False\n"
     ]
    }
   ],
   "source": [
    "# Operator in\n",
    "a='buah'\n",
    "print(a in 'Saya mau beli buah')\n",
    "print(a in 'Saya mau beli singkong')"
   ]
  },
  {
   "cell_type": "code",
   "execution_count": 90,
   "id": "36038284-f935-4482-867c-298102eaf5ad",
   "metadata": {},
   "outputs": [
    {
     "name": "stdout",
     "output_type": "stream",
     "text": [
      "BUAH\n"
     ]
    }
   ],
   "source": [
    "# upper\n",
    "a = 'buah'\n",
    "print(a.upper())"
   ]
  },
  {
   "cell_type": "code",
   "execution_count": 91,
   "id": "eaef32f5-81c4-4a97-aa9d-361b338fc287",
   "metadata": {},
   "outputs": [
    {
     "name": "stdout",
     "output_type": "stream",
     "text": [
      "buah\n"
     ]
    }
   ],
   "source": [
    "b = 'BUAH'\n",
    "print(b.lower())"
   ]
  },
  {
   "cell_type": "code",
   "execution_count": 93,
   "id": "44439101-8baf-497a-aec7-bee4281268ba",
   "metadata": {},
   "outputs": [
    {
     "name": "stdout",
     "output_type": "stream",
     "text": [
      "Sayac\n"
     ]
    }
   ],
   "source": [
    "c = 'sAyAc'\n",
    "print(c.capitalize())"
   ]
  },
  {
   "cell_type": "code",
   "execution_count": 96,
   "id": "63cc58ea-9147-4b0d-b43c-d5434ad15c39",
   "metadata": {},
   "outputs": [
    {
     "name": "stdout",
     "output_type": "stream",
     "text": [
      "Saya mau makan\n",
      "Saya Mau Makan\n",
      "saYA MaU mAKAN\n"
     ]
    }
   ],
   "source": [
    "d = 'SAya mAu Makan'\n",
    "print(d.capitalize())\n",
    "print(d.title())\n",
    "print(d.swapcase())"
   ]
  },
  {
   "cell_type": "markdown",
   "id": "1696f97e-1070-4bff-b790-dfae5b4a2344",
   "metadata": {},
   "source": [
    "# Python Lists"
   ]
  },
  {
   "cell_type": "code",
   "execution_count": 102,
   "id": "06db549b-dcc1-4fe6-86ab-de59ae244b8b",
   "metadata": {},
   "outputs": [],
   "source": [
    "a = ['saya','mau','makan']\n",
    "c = ['makan','mau','saya']"
   ]
  },
  {
   "cell_type": "code",
   "execution_count": 100,
   "id": "3ae4e919-3e29-4b47-8e36-b4f8ebad6ae7",
   "metadata": {},
   "outputs": [
    {
     "name": "stdout",
     "output_type": "stream",
     "text": [
      "['saya', 'mau', 'makan']\n"
     ]
    }
   ],
   "source": [
    "print(a)"
   ]
  },
  {
   "cell_type": "code",
   "execution_count": 101,
   "id": "80f1a90d-f03f-45b7-8449-f85765d0d19f",
   "metadata": {},
   "outputs": [
    {
     "name": "stdout",
     "output_type": "stream",
     "text": [
      "['saya', 1, True, 3.7]\n"
     ]
    }
   ],
   "source": [
    "b = ['saya',1,True,3.7]\n",
    "print(b)"
   ]
  },
  {
   "cell_type": "code",
   "execution_count": 103,
   "id": "45f6131f-c62e-4d93-98e1-70944e79271a",
   "metadata": {},
   "outputs": [
    {
     "name": "stdout",
     "output_type": "stream",
     "text": [
      "False\n"
     ]
    }
   ],
   "source": [
    "print(a==c)"
   ]
  },
  {
   "cell_type": "markdown",
   "id": "9c42e14f-2b31-43b4-90a4-0f302a4cbdc9",
   "metadata": {},
   "source": [
    "## Indexing dan Slicing"
   ]
  },
  {
   "cell_type": "code",
   "execution_count": 105,
   "id": "f4392ce7-e4fa-4892-b841-3b33b68e1e76",
   "metadata": {},
   "outputs": [
    {
     "name": "stdout",
     "output_type": "stream",
     "text": [
      "['foo', 'bar', 'baz', 'qux', 'quux', 'corge']\n"
     ]
    }
   ],
   "source": [
    "# List can be accessed by Index\n",
    "a = ['foo','bar','baz','qux','quux','corge']\n",
    "print(a)"
   ]
  },
  {
   "attachments": {
    "c64ea901-01a2-4809-9494-ea3f56a0fa5b.png": {
     "image/png": "[encoded data removed]"
    }
   },
   "cell_type": "markdown",
   "id": "22ab5958-afec-4d02-89bc-b20cb91675c9",
   "metadata": {},
   "source": [
    "![image.png](attachment:c64ea901-01a2-4809-9494-ea3f56a0fa5b.png)"
   ]
  },
  {
   "cell_type": "code",
   "execution_count": 108,
   "id": "aacd27bb-5c91-430a-8cd3-e002815aa769",
   "metadata": {},
   "outputs": [
    {
     "name": "stdout",
     "output_type": "stream",
     "text": [
      "foo\n",
      "qux\n"
     ]
    }
   ],
   "source": [
    "# Indexing\n",
    "print(a[0])\n",
    "print(a[3])"
   ]
  },
  {
   "cell_type": "code",
   "execution_count": 109,
   "id": "d856683a-75d4-4597-a579-619c221ff16a",
   "metadata": {},
   "outputs": [
    {
     "name": "stdout",
     "output_type": "stream",
     "text": [
      "foo\n"
     ]
    }
   ],
   "source": [
    "print(a[-6])"
   ]
  },
  {
   "cell_type": "code",
   "execution_count": 110,
   "id": "0a295ebc-e19c-481f-a7b0-feeadf082f04",
   "metadata": {},
   "outputs": [
    {
     "name": "stdout",
     "output_type": "stream",
     "text": [
      "True\n"
     ]
    }
   ],
   "source": [
    "print(a[-6]==a[0])"
   ]
  },
  {
   "cell_type": "code",
   "execution_count": 115,
   "id": "dcf24006-0abf-4b9e-9420-a48828ddf0e6",
   "metadata": {},
   "outputs": [
    {
     "name": "stdout",
     "output_type": "stream",
     "text": [
      "i\n"
     ]
    }
   ],
   "source": [
    "x = 'budi'\n",
    "print(x[-1])"
   ]
  },
  {
   "cell_type": "markdown",
   "id": "bbaf6c60-4726-4660-b7b4-381b98811de0",
   "metadata": {},
   "source": [
    "# Prinsip Slicing = [start:stop:step]"
   ]
  },
  {
   "cell_type": "code",
   "execution_count": 121,
   "id": "81584e07-afdb-45ce-9f0b-79460338388b",
   "metadata": {},
   "outputs": [
    {
     "name": "stdout",
     "output_type": "stream",
     "text": [
      "['foo', 'bar', 'baz', 'qux', 'quux', 'corge']\n",
      "['bar', 'baz', 'qux', 'quux', 'corge']\n"
     ]
    }
   ],
   "source": [
    "# Slicing\n",
    "a = ['foo','bar','baz','qux','quux','corge']\n",
    "print(a[0:6])\n",
    "print(a[1:])"
   ]
  },
  {
   "cell_type": "code",
   "execution_count": 122,
   "id": "3800d70f-a6d6-4e2f-8a60-2d9cc50c7f16",
   "metadata": {},
   "outputs": [
    {
     "name": "stdout",
     "output_type": "stream",
     "text": [
      "ud\n",
      "udi\n"
     ]
    }
   ],
   "source": [
    "x = 'budi'\n",
    "print(x[1:3])\n",
    "print(x[1:])"
   ]
  },
  {
   "cell_type": "code",
   "execution_count": 134,
   "id": "2b2f6316-4dc1-435a-a492-006b828c677f",
   "metadata": {},
   "outputs": [
    {
     "name": "stdout",
     "output_type": "stream",
     "text": [
      "aragenayruS rikgniT akaJ\n"
     ]
    }
   ],
   "source": [
    "y = 'Jaka Tingkir Suryanegara'\n",
    "print(y[::-1])"
   ]
  },
  {
   "cell_type": "code",
   "execution_count": 135,
   "id": "e9417eac-2600-49fe-a942-b1490f2338b7",
   "metadata": {},
   "outputs": [],
   "source": [
    "a ='komitmen'"
   ]
  },
  {
   "cell_type": "markdown",
   "id": "dc7af2db-045a-49f4-bdca-588655010340",
   "metadata": {},
   "source": [
    "> ### Exercise C\n",
    "Use indexing or slicing to get:\n",
    "> 1. `i`\n",
    "> 2. `omi`\n",
    "> 3. `tmen`\n",
    "> 4. `kmte`\n",
    "> 4. `kmtn`"
   ]
  },
  {
   "cell_type": "code",
   "execution_count": 144,
   "id": "bff842b7-8a10-4ba4-ba7c-755515dc17d1",
   "metadata": {},
   "outputs": [
    {
     "name": "stdout",
     "output_type": "stream",
     "text": [
      "kmtn\n"
     ]
    }
   ],
   "source": [
    "print(a[0:5:2]+a[a.index('n')])"
   ]
  },
  {
   "cell_type": "markdown",
   "id": "84f0d310-c0c8-433f-a8e6-62701a5071a5",
   "metadata": {},
   "source": [
    "## Modify List values based on its index"
   ]
  },
  {
   "cell_type": "code",
   "execution_count": 165,
   "id": "f0bd8495-5cca-48e5-920b-d38575c0cd35",
   "metadata": {},
   "outputs": [],
   "source": [
    "a = ['foo','bar','baz','qux','quux','corge','quux']\n",
    "a[a.index('qux')] = 20"
   ]
  },
  {
   "cell_type": "code",
   "execution_count": 166,
   "id": "035d0bce-6ee7-40fe-b3ac-a0ac856f943e",
   "metadata": {},
   "outputs": [
    {
     "name": "stdout",
     "output_type": "stream",
     "text": [
      "['foo', 'bar', 'baz', 20, 'corge', 'quux']\n"
     ]
    }
   ],
   "source": [
    "# del command\n",
    "del a[a.index('quux')]\n",
    "print(a)"
   ]
  },
  {
   "cell_type": "code",
   "execution_count": 158,
   "id": "0f5c437f-ebac-4d4f-9c7d-f81360e94b57",
   "metadata": {},
   "outputs": [
    {
     "name": "stdout",
     "output_type": "stream",
     "text": [
      "['foo', 'bar', 'baz', 20, 'quux', 'corgi']\n"
     ]
    }
   ],
   "source": [
    "print(a)"
   ]
  },
  {
   "cell_type": "code",
   "execution_count": 167,
   "id": "00afd4e4-391f-45b3-8e3c-edf0cf776b4e",
   "metadata": {},
   "outputs": [
    {
     "name": "stdout",
     "output_type": "stream",
     "text": [
      "[1, 2, 3, 'qux', 'quux', 'corge', 'quux']\n"
     ]
    }
   ],
   "source": [
    "a = ['foo','bar','baz','qux','quux','corge','quux']\n",
    "a[0:3] = [1,2,3]\n",
    "print(a)"
   ]
  },
  {
   "cell_type": "markdown",
   "id": "c01ab26a-e72e-4fed-adef-70c359e18680",
   "metadata": {},
   "source": [
    "# Tuple"
   ]
  },
  {
   "cell_type": "code",
   "execution_count": 168,
   "id": "d5c7642a-3f16-4864-8e87-999f771eb14e",
   "metadata": {},
   "outputs": [
    {
     "name": "stdout",
     "output_type": "stream",
     "text": [
      "<class 'tuple'>\n"
     ]
    }
   ],
   "source": [
    "t = ('foo','bar','baz','qux','quux','corge','quux')\n",
    "print(type(t))"
   ]
  },
  {
   "cell_type": "code",
   "execution_count": 172,
   "id": "185407ea-2858-4644-bb11-e9e8317d1491",
   "metadata": {},
   "outputs": [
    {
     "ename": "TypeError",
     "evalue": "'tuple' object does not support item assignment",
     "output_type": "error",
     "traceback": [
      "\u001b[1;31m---------------------------------------------------------------------------\u001b[0m",
      "\u001b[1;31mTypeError\u001b[0m                                 Traceback (most recent call last)",
      "Cell \u001b[1;32mIn[172], line 1\u001b[0m\n\u001b[1;32m----> 1\u001b[0m t[\u001b[38;5;241m0\u001b[39m]\u001b[38;5;241m=\u001b[39m\u001b[38;5;241m1\u001b[39m\n",
      "\u001b[1;31mTypeError\u001b[0m: 'tuple' object does not support item assignment"
     ]
    }
   ],
   "source": [
    "t[0]=1"
   ]
  },
  {
   "cell_type": "code",
   "execution_count": null,
   "id": "09ae10b3-9143-4271-b3d8-657e1d4e9db1",
   "metadata": {},
   "outputs": [],
   "source": []
  },
  {
   "cell_type": "markdown",
   "id": "fb7dee4f-3096-433c-b149-a9611a1f4beb",
   "metadata": {},
   "source": [
    "# Dictionary"
   ]
  },
  {
   "cell_type": "code",
   "execution_count": 173,
   "id": "842d9a7d-e64f-43a4-9f2b-15898ad6c939",
   "metadata": {},
   "outputs": [],
   "source": [
    "MLB_team = {\n",
    "    'Colorado':'Rockies',\n",
    "    'Boston':'Red Sox',\n",
    "    'Minnesota':'Twins',\n",
    "    'Milwaukee':'Brewers',\n",
    "    'Seattle':'Mariners'\n",
    "}"
   ]
  },
  {
   "cell_type": "code",
   "execution_count": 175,
   "id": "d546e01e-73e6-4b39-bdbd-8844aa95d8d4",
   "metadata": {},
   "outputs": [
    {
     "name": "stdout",
     "output_type": "stream",
     "text": [
      "Rockies\n",
      "Red Sox\n"
     ]
    }
   ],
   "source": [
    "print(MLB_team['Colorado'])\n",
    "print(MLB_team['Boston'])\n"
   ]
  },
  {
   "cell_type": "code",
   "execution_count": 176,
   "id": "bb908b8e-40e2-45f2-a88a-245808c9d347",
   "metadata": {},
   "outputs": [
    {
     "name": "stdout",
     "output_type": "stream",
     "text": [
      "{'Colorado': 'Rockies', 'Boston': 'Red Sox', 'Minnesota': 'Twins', 'Milwaukee': 'Brewers', 'Seattle': 'Mariners', 'Kansas City': 'Royals'}\n"
     ]
    }
   ],
   "source": [
    "# Assign Kota Baru\n",
    "MLB_team['Kansas City'] = 'Royals'\n",
    "print(MLB_team)"
   ]
  },
  {
   "cell_type": "code",
   "execution_count": 177,
   "id": "498bfc54-2cd2-4c93-8138-5416e0e9b04f",
   "metadata": {},
   "outputs": [
    {
     "name": "stdout",
     "output_type": "stream",
     "text": [
      "{'Colorado': 'Rockies', 'Boston': 'Red Sox', 'Minnesota': 'Twins', 'Milwaukee': 'Brewers', 'Seattle': 'Seahawks', 'Kansas City': 'Royals'}\n"
     ]
    }
   ],
   "source": [
    "#Update Tim Kota\n",
    "MLB_team['Seattle'] = 'Seahawks'\n",
    "print(MLB_team)"
   ]
  },
  {
   "cell_type": "code",
   "execution_count": 178,
   "id": "eb14c26b-cfd9-422e-b6ed-ee2c1d748843",
   "metadata": {},
   "outputs": [
    {
     "name": "stdout",
     "output_type": "stream",
     "text": [
      "{'Boston': 'Red Sox', 'Minnesota': 'Twins', 'Milwaukee': 'Brewers', 'Seattle': 'Seahawks', 'Kansas City': 'Royals'}\n"
     ]
    }
   ],
   "source": [
    "# del command\n",
    "del MLB_team['Colorado']\n",
    "print(MLB_team)"
   ]
  },
  {
   "cell_type": "code",
   "execution_count": 180,
   "id": "2f9b69df-58fe-43b8-a72a-5a516cb1ca7c",
   "metadata": {},
   "outputs": [
    {
     "name": "stdout",
     "output_type": "stream",
     "text": [
      "<class 'dict'>\n"
     ]
    }
   ],
   "source": [
    "orang = {}\n",
    "print(type(orang))"
   ]
  },
  {
   "cell_type": "code",
   "execution_count": 184,
   "id": "c34f697d-e38c-4651-b603-e9f8bcb2a6f4",
   "metadata": {},
   "outputs": [
    {
     "data": {
      "text/plain": [
       "{'Nama': 'Budi',\n",
       " 'Kota': 'Solo',\n",
       " 'Umur': 32,\n",
       " 'Anak': ['Budi', 'Sarah', 'Syifa'],\n",
       " 'Kendaraan': {'mobil': 'Innova', 'motor': 'mio'}}"
      ]
     },
     "execution_count": 184,
     "metadata": {},
     "output_type": "execute_result"
    }
   ],
   "source": [
    "orang['Nama'] = 'Budi'\n",
    "orang['Kota'] = 'Solo'\n",
    "orang['Umur'] = 32\n",
    "orang['Anak'] = ['Budi','Sarah','Syifa']\n",
    "orang['Kendaraan'] ={'mobil':'Innova','motor':'mio'}\n",
    "orang"
   ]
  },
  {
   "cell_type": "code",
   "execution_count": 187,
   "id": "0dd6a2f4-36cf-4d95-ac3c-dbc088c1d0d3",
   "metadata": {},
   "outputs": [
    {
     "name": "stdout",
     "output_type": "stream",
     "text": [
      "mio\n"
     ]
    }
   ],
   "source": [
    "print(orang['Kendaraan']['motor'])"
   ]
  },
  {
   "cell_type": "code",
   "execution_count": 191,
   "id": "19a3b2fb-95eb-45bd-ab38-2b901a9a295b",
   "metadata": {},
   "outputs": [
    {
     "name": "stdout",
     "output_type": "stream",
     "text": [
      "['Budi', 'Sarah']\n"
     ]
    }
   ],
   "source": [
    "print(orang['Anak'][0:2])"
   ]
  },
  {
   "cell_type": "markdown",
   "id": "4c4474cc-7822-4405-91c3-139e55f461e5",
   "metadata": {},
   "source": [
    "# Line Continuation"
   ]
  },
  {
   "cell_type": "code",
   "execution_count": 193,
   "id": "c037b33d-e268-4b1f-b818-2eb9d4720992",
   "metadata": {},
   "outputs": [
    {
     "name": "stdout",
     "output_type": "stream",
     "text": [
      "True\n",
      "False\n",
      "True\n",
      "True\n",
      "False\n",
      "False\n"
     ]
    }
   ],
   "source": [
    "print(True and True)\n",
    "print(True and False)\n",
    "print(True or True)\n",
    "print(True or False)\n",
    "print(False and False)\n",
    "print(False or False)"
   ]
  },
  {
   "cell_type": "markdown",
   "id": "7597a91a-c55c-4f9d-a855-dfbba4687f81",
   "metadata": {},
   "source": [
    "working age is 16-65"
   ]
  },
  {
   "cell_type": "code",
   "execution_count": 198,
   "id": "8f193645-630c-45bf-b099-f6f87436801d",
   "metadata": {},
   "outputs": [
    {
     "name": "stdout",
     "output_type": "stream",
     "text": [
      "True\n",
      "False\n",
      "False\n"
     ]
    }
   ],
   "source": [
    "umur1 = 42\n",
    "umur2 = 16\n",
    "umur3=71\n",
    "\n",
    "print(umur1>=18 and umur1<=65)\n",
    "print(umur2>=18 and umur2<=65)\n",
    "print(umur3>=18 and umur3<=65)"
   ]
  },
  {
   "cell_type": "markdown",
   "id": "8ae4bd88-cc88-4ef6-90bd-42a7eb8b8ce5",
   "metadata": {},
   "source": [
    "how to check if one of them is of working age"
   ]
  },
  {
   "cell_type": "code",
   "execution_count": 199,
   "id": "5afed30d-ae69-436d-8c78-823b2766ccfb",
   "metadata": {},
   "outputs": [
    {
     "name": "stdout",
     "output_type": "stream",
     "text": [
      "True\n"
     ]
    }
   ],
   "source": [
    "print((umur1>=18 and umur1<=65) or (umur2>=18 and umur2<=65) or (umur3>=18 and umur3<=65))"
   ]
  },
  {
   "cell_type": "markdown",
   "id": "1fb3ef0a-324b-4e56-8bed-fe6bc15b99b0",
   "metadata": {},
   "source": [
    "# Materi Tambahan"
   ]
  },
  {
   "cell_type": "code",
   "execution_count": 225,
   "id": "64a35f6d-c3a5-4d29-b833-48b68f23a25b",
   "metadata": {},
   "outputs": [
    {
     "name": "stdout",
     "output_type": "stream",
     "text": [
      "['Toyota', 'Kijang', 'Isuzu']\n"
     ]
    }
   ],
   "source": [
    "mobil = ['Toyota','Kijang']\n",
    "mobil = mobil + ['Isuzu']\n",
    "print(mobil)"
   ]
  },
  {
   "cell_type": "code",
   "execution_count": 215,
   "id": "81ac0cf8-6ad3-4186-9486-245cd8e1ade7",
   "metadata": {},
   "outputs": [
    {
     "name": "stdout",
     "output_type": "stream",
     "text": [
      "['Toyota', 'Kijang', 'Isuzu']\n"
     ]
    }
   ],
   "source": [
    "mobil = ['Toyota','Kijang']\n",
    "mobil.append('Isuzu')\n",
    "print(mobil)"
   ]
  },
  {
   "cell_type": "code",
   "execution_count": 216,
   "id": "23dfbda3-0582-4d9b-9a56-55d890fbb6df",
   "metadata": {},
   "outputs": [
    {
     "name": "stdout",
     "output_type": "stream",
     "text": [
      "['Toyota', 'Kijang', 'Isuzu']\n"
     ]
    }
   ],
   "source": [
    "kendaraan = mobil.copy()\n",
    "print(kendaraan)"
   ]
  },
  {
   "cell_type": "code",
   "execution_count": 220,
   "id": "1af27889-e5f7-4f80-b146-02832da31c9a",
   "metadata": {},
   "outputs": [
    {
     "name": "stdout",
     "output_type": "stream",
     "text": [
      "['Toyota', 'Kijang', 'Isuzu', 'Innova', 'Innova', 'Innova']\n",
      "['Toyota', 'Kijang', 'Isuzu']\n"
     ]
    }
   ],
   "source": [
    "kendaraan.append('Innova')\n",
    "kendaraan.append('Innova')\n",
    "\n",
    "print(kendaraan)\n",
    "print(mobil)"
   ]
  },
  {
   "cell_type": "code",
   "execution_count": 223,
   "id": "b1f1236a-7e96-4eac-8b7a-ad3eed5cdaca",
   "metadata": {},
   "outputs": [
    {
     "name": "stdout",
     "output_type": "stream",
     "text": [
      "['Toyota', 'Kijang', 'Isuzu', 'Innova', 'Innova']\n"
     ]
    }
   ],
   "source": [
    "print(kendaraan)"
   ]
  },
  {
   "cell_type": "code",
   "execution_count": 221,
   "id": "1b92f4b8-4a77-4c65-9f25-cec6efb62cec",
   "metadata": {},
   "outputs": [],
   "source": [
    "kendaraan.remove('Innova')"
   ]
  },
  {
   "cell_type": "code",
   "execution_count": 209,
   "id": "f4a6d6fd-9a42-4549-905a-a69b7fa05dc0",
   "metadata": {},
   "outputs": [
    {
     "name": "stdout",
     "output_type": "stream",
     "text": [
      "['Pisang', 'Apel']\n"
     ]
    }
   ],
   "source": [
    "buah = ['Pisang','Jeruk','Apel']\n",
    "buah.pop(1)\n",
    "print(buah)"
   ]
  },
  {
   "cell_type": "code",
   "execution_count": null,
   "id": "1de8743a-815b-400d-89d2-cc5c3770b60d",
   "metadata": {},
   "outputs": [],
   "source": []
  }
 ],
 "metadata": {
  "kernelspec": {
   "display_name": "Python 3 (ipykernel)",
   "language": "python",
   "name": "python3"
  },
  "language_info": {
   "codemirror_mode": {
    "name": "ipython",
    "version": 3
   },
   "file_extension": ".py",
   "mimetype": "text/x-python",
   "name": "python",
   "nbconvert_exporter": "python",
   "pygments_lexer": "ipython3",
   "version": "3.8.8"
  }
 },
 "nbformat": 4,
 "nbformat_minor": 5
}
