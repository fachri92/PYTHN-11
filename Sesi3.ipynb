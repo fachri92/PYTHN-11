{
 "cells": [
  {
   "cell_type": "markdown",
   "id": "adf2a4fe-a4a4-4da1-b94f-c98f8330fffb",
   "metadata": {},
   "source": [
    "# Function, Module, Package"
   ]
  },
  {
   "cell_type": "code",
   "execution_count": 22,
   "id": "f61fe39f-acbc-47f4-af2a-b8304992e60c",
   "metadata": {},
   "outputs": [
    {
     "data": {
      "text/plain": [
       "3"
      ]
     },
     "execution_count": 22,
     "metadata": {},
     "output_type": "execute_result"
    }
   ],
   "source": [
    "1 * 3"
   ]
  },
  {
   "cell_type": "code",
   "execution_count": 37,
   "id": "e74832c4-0de1-4ed0-847b-3141a076f8b7",
   "metadata": {},
   "outputs": [
    {
     "name": "stdout",
     "output_type": "stream",
     "text": [
      "3\n"
     ]
    }
   ],
   "source": [
    "def kali(a,b):\n",
    "    return a*b\n",
    "print(kali(1,3))"
   ]
  },
  {
   "cell_type": "code",
   "execution_count": 38,
   "id": "195483c8-6f4a-4d18-9701-3efa9c26c7a1",
   "metadata": {},
   "outputs": [],
   "source": [
    "x = kali(2,3)\n",
    "y = kali(4,6)\n",
    "z = kali(x,y)"
   ]
  },
  {
   "cell_type": "code",
   "execution_count": 39,
   "id": "6478d864-69a7-4ef8-8b38-a266e9f38d30",
   "metadata": {},
   "outputs": [
    {
     "name": "stdout",
     "output_type": "stream",
     "text": [
      "144\n"
     ]
    }
   ],
   "source": [
    "print(z)"
   ]
  },
  {
   "cell_type": "code",
   "execution_count": 43,
   "id": "28c706ad-5f92-4f31-ac8b-cfc77faba5ee",
   "metadata": {},
   "outputs": [],
   "source": [
    "def str_joiner(a,b):\n",
    "    a = a.upper()\n",
    "    b = b.upper()\n",
    "    return a + b"
   ]
  },
  {
   "cell_type": "code",
   "execution_count": 45,
   "id": "0ea2e4ea-be26-42da-8f20-d8f37962e31a",
   "metadata": {},
   "outputs": [
    {
     "data": {
      "text/plain": [
       "'AYAM BURUNG'"
      ]
     },
     "execution_count": 45,
     "metadata": {},
     "output_type": "execute_result"
    }
   ],
   "source": [
    "str_joiner('ayam','burung')"
   ]
  },
  {
   "cell_type": "markdown",
   "id": "2cfd1ff0-4967-4131-80d6-d348240369b4",
   "metadata": {},
   "source": [
    "Tolong buat function yang berisi 3 parameter string yang akan dijoin menggunakan spasi dan diconvert menjadi reverse\n",
    "\n",
    "## contoh:\n",
    "## input:\n",
    "## str_joiner('Saya','Mau','Makan')\n",
    "## Output:\n",
    "## nakam uam ayas"
   ]
  },
  {
   "cell_type": "code",
   "execution_count": 51,
   "id": "39f6efff-cbf5-451d-8e58-0d67ae94f39c",
   "metadata": {},
   "outputs": [
    {
     "data": {
      "text/plain": [
       "'nakam uam ayas'"
      ]
     },
     "execution_count": 51,
     "metadata": {},
     "output_type": "execute_result"
    }
   ],
   "source": [
    "def str_joiner(a,b,c):\n",
    "    a  = a.lower()\n",
    "    b = b.lower()\n",
    "    c = c.lower()\n",
    "    return (a+ ' '+b+' '+c)[::-1]\n",
    "str_joiner('Saya','Mau','Makan')\n",
    "    "
   ]
  },
  {
   "cell_type": "markdown",
   "id": "30419374-633f-4df1-9fa2-03f79bba993a",
   "metadata": {},
   "source": [
    "* Variabel Global\n",
    "* Variabel Lokal"
   ]
  },
  {
   "cell_type": "code",
   "execution_count": 55,
   "id": "c4cb950f-9b09-4a45-9d6c-4a765717c4ee",
   "metadata": {},
   "outputs": [
    {
     "name": "stdout",
     "output_type": "stream",
     "text": [
      "20\n",
      "3\n"
     ]
    }
   ],
   "source": [
    "total = 20 #Variabel Global\n",
    "\n",
    "def function_a(a,b):\n",
    "    total = a+b #variabel lokal\n",
    "    print(total)\n",
    "\n",
    "print(total)\n",
    "function_a(1,2)"
   ]
  },
  {
   "cell_type": "code",
   "execution_count": 54,
   "id": "d329a98e-386d-4161-a61d-64826d2b34ab",
   "metadata": {},
   "outputs": [
    {
     "data": {
      "text/plain": [
       "20"
      ]
     },
     "execution_count": 54,
     "metadata": {},
     "output_type": "execute_result"
    }
   ],
   "source": [
    "total"
   ]
  },
  {
   "cell_type": "code",
   "execution_count": 57,
   "id": "8a6843c5-3b85-4daf-adff-be4effc2a052",
   "metadata": {},
   "outputs": [
    {
     "name": "stdout",
     "output_type": "stream",
     "text": [
      "Tes\n"
     ]
    },
    {
     "ename": "NameError",
     "evalue": "name 'tes' is not defined",
     "output_type": "error",
     "traceback": [
      "\u001b[1;31m---------------------------------------------------------------------------\u001b[0m",
      "\u001b[1;31mNameError\u001b[0m                                 Traceback (most recent call last)",
      "Cell \u001b[1;32mIn[57], line 5\u001b[0m\n\u001b[0;32m      3\u001b[0m     \u001b[38;5;28mprint\u001b[39m(tes)\n\u001b[0;32m      4\u001b[0m function_b()\n\u001b[1;32m----> 5\u001b[0m \u001b[38;5;28mprint\u001b[39m(\u001b[43mtes\u001b[49m)\n",
      "\u001b[1;31mNameError\u001b[0m: name 'tes' is not defined"
     ]
    }
   ],
   "source": [
    "def function_b():\n",
    "    tes = 'Tes'\n",
    "    print(tes)\n",
    "function_b()\n",
    "print(tes)"
   ]
  },
  {
   "cell_type": "code",
   "execution_count": null,
   "id": "ef0b5fcf-2ed9-418d-b220-44928e5658a6",
   "metadata": {},
   "outputs": [],
   "source": [
    "mylist = [31,23,31,40,50,67,74,88,91,10,11,13]\n"
   ]
  },
  {
   "cell_type": "code",
   "execution_count": 59,
   "id": "b9a22c48-dea3-42bd-92c4-0926b3b7f54b",
   "metadata": {},
   "outputs": [],
   "source": [
    "def function_summary(list_):\n",
    "    ##????\n",
    "    pass\n",
    "function_summary([])"
   ]
  },
  {
   "cell_type": "markdown",
   "id": "4bcea886-668f-4af8-87b7-7464ea1323a5",
   "metadata": {},
   "source": [
    "# Quiz 2"
   ]
  },
  {
   "cell_type": "markdown",
   "id": "b74c8bb5-4639-41f1-918c-21fe2b447f72",
   "metadata": {},
   "source": [
    "Output Function:\n",
    "* A. n angka ganjil adalah = 7\n",
    "* B. n angka genap adalah =6\n",
    "* c. Sum angka ganjil adalah = \n",
    "* d. sum angka genap adalah = 100\n"
   ]
  },
  {
   "cell_type": "code",
   "execution_count": 61,
   "id": "a421dc44-4756-4a53-aea1-3d113675ebdf",
   "metadata": {},
   "outputs": [
    {
     "name": "stdout",
     "output_type": "stream",
     "text": [
      "7\n",
      "5\n",
      "267\n",
      "262\n"
     ]
    }
   ],
   "source": [
    "mylist = [31,23,31,40,50,67,74,88,91,10,11,13]\n",
    "\n",
    "def list_summary(lst):\n",
    "    nGenap = 0 #placeholder n angka genap\n",
    "    nGanjil = 0\n",
    "    sumGenap = 0\n",
    "    sumGanjil = 0\n",
    "    for i in lst:\n",
    "        if i % 2 == 0 : # untuk filter angka genap\n",
    "            nGenap +=1\n",
    "            sumGenap +=i\n",
    "        else: # untuk filter angka ganjil\n",
    "            nGanjil +=1\n",
    "            sumGanjil +=i\n",
    "    print(nGanjil)\n",
    "    print(nGenap)\n",
    "    print(sumGanjil)\n",
    "    print(sumGenap)\n",
    "    \n",
    "list_summary(mylist)"
   ]
  },
  {
   "cell_type": "code",
   "execution_count": 63,
   "id": "6835d9a8-e9eb-4d48-b1f2-9c1303339791",
   "metadata": {},
   "outputs": [
    {
     "name": "stdout",
     "output_type": "stream",
     "text": [
      "Name:  Budi\n",
      "Age:  30\n"
     ]
    }
   ],
   "source": [
    "# Default Argument\n",
    "def printinfo(name,age=26):\n",
    "    print('Name: ',name)\n",
    "    print('Age: ',age)\n",
    "printinfo('Budi',30)"
   ]
  },
  {
   "cell_type": "code",
   "execution_count": 65,
   "id": "e5f6ff26-fd73-4a91-9058-4ea5ec9f9f23",
   "metadata": {},
   "outputs": [
    {
     "name": "stdout",
     "output_type": "stream",
     "text": [
      "Name:  Rahmat\n",
      "Age:  44\n"
     ]
    }
   ],
   "source": [
    "printinfo(age=44,name='Rahmat')"
   ]
  },
  {
   "cell_type": "code",
   "execution_count": 66,
   "id": "4723b44b-394f-478d-a0a7-c4595a35c5cb",
   "metadata": {},
   "outputs": [
    {
     "name": "stdout",
     "output_type": "stream",
     "text": [
      "Name:  44\n",
      "Age:  Rahmat\n"
     ]
    }
   ],
   "source": [
    "printinfo(44,'Rahmat')"
   ]
  },
  {
   "cell_type": "code",
   "execution_count": 68,
   "id": "4c3ae228-2e51-4684-8eb3-1c301207dddd",
   "metadata": {},
   "outputs": [
    {
     "ename": "TypeError",
     "evalue": "printinfo() takes from 1 to 2 positional arguments but 3 were given",
     "output_type": "error",
     "traceback": [
      "\u001b[1;31m---------------------------------------------------------------------------\u001b[0m",
      "\u001b[1;31mTypeError\u001b[0m                                 Traceback (most recent call last)",
      "Cell \u001b[1;32mIn[68], line 1\u001b[0m\n\u001b[1;32m----> 1\u001b[0m \u001b[43mprintinfo\u001b[49m\u001b[43m(\u001b[49m\u001b[38;5;124;43m'\u001b[39;49m\u001b[38;5;124;43mBudi\u001b[39;49m\u001b[38;5;124;43m'\u001b[39;49m\u001b[43m,\u001b[49m\u001b[38;5;241;43m13\u001b[39;49m\u001b[43m,\u001b[49m\u001b[38;5;241;43m14\u001b[39;49m\u001b[43m)\u001b[49m\n",
      "\u001b[1;31mTypeError\u001b[0m: printinfo() takes from 1 to 2 positional arguments but 3 were given"
     ]
    }
   ],
   "source": [
    "printinfo('Budi',13,14)"
   ]
  },
  {
   "cell_type": "code",
   "execution_count": 67,
   "id": "53630746-e161-4f42-ae68-a0927ca5281a",
   "metadata": {},
   "outputs": [],
   "source": [
    "import numpy as np"
   ]
  },
  {
   "cell_type": "code",
   "execution_count": 79,
   "id": "1f6b97af-32a6-4e08-8a91-48c0edf05cf6",
   "metadata": {},
   "outputs": [],
   "source": [
    "#variable length arguments\n",
    "def printinfo(x, *vartuple):\n",
    "    print('Output is :')\n",
    "    print(x)\n",
    "    print(vartuple)\n",
    "    print(type(vartuple))\n",
    "    \n",
    "    "
   ]
  },
  {
   "cell_type": "code",
   "execution_count": 80,
   "id": "88e839c2-9602-4599-a5de-6bcc39cc25a6",
   "metadata": {},
   "outputs": [
    {
     "name": "stdout",
     "output_type": "stream",
     "text": [
      "Output is :\n",
      "8\n",
      "(9, 20, 30, 'Nama', 90, 100, 11)\n",
      "<class 'tuple'>\n"
     ]
    }
   ],
   "source": [
    "printinfo(8,9,20,30,'Nama',90,100,11)"
   ]
  },
  {
   "cell_type": "markdown",
   "id": "9cfd76b8-66d0-4e14-b0eb-a6a391c1b7e1",
   "metadata": {},
   "source": [
    "## Lambda"
   ]
  },
  {
   "attachments": {
    "15cd08d4-6174-4dc3-bf64-fe41cf8a5a5e.png": {
     "image/png": "[encoded data removed]"
    }
   },
   "cell_type": "markdown",
   "id": "1e7ddfdd-4e2b-45dd-b380-205f3f387b05",
   "metadata": {},
   "source": [
    "![image.png](attachment:15cd08d4-6174-4dc3-bf64-fe41cf8a5a5e.png)"
   ]
  },
  {
   "cell_type": "code",
   "execution_count": 81,
   "id": "ddb3df7d-b36c-48ec-aa03-50979eab6eb2",
   "metadata": {},
   "outputs": [
    {
     "name": "stdout",
     "output_type": "stream",
     "text": [
      "3\n"
     ]
    }
   ],
   "source": [
    "def sum(x,y):\n",
    "    return x + y\n",
    "print(sum(1,2))"
   ]
  },
  {
   "cell_type": "code",
   "execution_count": 83,
   "id": "f33ef694-6c0d-4e44-a7d7-fee386fe919c",
   "metadata": {},
   "outputs": [
    {
     "name": "stdout",
     "output_type": "stream",
     "text": [
      "15\n"
     ]
    }
   ],
   "source": [
    "perkalian = lambda x,y:x*y\n",
    "print(perkalian(3,5))"
   ]
  },
  {
   "cell_type": "markdown",
   "id": "0140d5b3-3d5b-494c-89af-020c32c9f3e0",
   "metadata": {},
   "source": [
    "# Modules"
   ]
  },
  {
   "cell_type": "code",
   "execution_count": 84,
   "id": "395f7924-290e-4636-b353-7190499b0850",
   "metadata": {},
   "outputs": [],
   "source": [
    "import numpy as np"
   ]
  },
  {
   "cell_type": "code",
   "execution_count": 86,
   "id": "d494aeb8-7052-40e1-8579-ba6da2d60967",
   "metadata": {},
   "outputs": [
    {
     "data": {
      "text/plain": [
       "3.0"
      ]
     },
     "execution_count": 86,
     "metadata": {},
     "output_type": "execute_result"
    }
   ],
   "source": [
    "np.sqrt(9)"
   ]
  },
  {
   "cell_type": "code",
   "execution_count": 88,
   "id": "33a9c008-ed74-4f0e-98b1-4f47d9a12c00",
   "metadata": {},
   "outputs": [],
   "source": [
    "import mod"
   ]
  },
  {
   "cell_type": "code",
   "execution_count": null,
   "id": "4b3368bb-5a75-4993-9dde-efc6202f3155",
   "metadata": {},
   "outputs": [],
   "source": [
    "mod()"
   ]
  },
  {
   "cell_type": "code",
   "execution_count": 89,
   "id": "e2635069-c6c8-4501-9b86-a9f071d79724",
   "metadata": {},
   "outputs": [
    {
     "data": {
      "text/plain": [
       "['D:\\\\Hacktiv8',\n",
       " 'C:\\\\Users\\\\fachr\\\\anaconda3\\\\python38.zip',\n",
       " 'C:\\\\Users\\\\fachr\\\\anaconda3\\\\DLLs',\n",
       " 'C:\\\\Users\\\\fachr\\\\anaconda3\\\\lib',\n",
       " 'C:\\\\Users\\\\fachr\\\\anaconda3',\n",
       " '',\n",
       " 'C:\\\\Users\\\\fachr\\\\anaconda3\\\\lib\\\\site-packages',\n",
       " 'C:\\\\Users\\\\fachr\\\\anaconda3\\\\lib\\\\site-packages\\\\win32',\n",
       " 'C:\\\\Users\\\\fachr\\\\anaconda3\\\\lib\\\\site-packages\\\\win32\\\\lib',\n",
       " 'C:\\\\Users\\\\fachr\\\\anaconda3\\\\lib\\\\site-packages\\\\Pythonwin']"
      ]
     },
     "execution_count": 89,
     "metadata": {},
     "output_type": "execute_result"
    }
   ],
   "source": [
    "import sys\n",
    "sys.path"
   ]
  },
  {
   "cell_type": "code",
   "execution_count": 92,
   "id": "1fc6ea65-b78e-4e96-89eb-13ba7efc8169",
   "metadata": {},
   "outputs": [],
   "source": [
    "sys.path.append('D:/library')"
   ]
  },
  {
   "cell_type": "code",
   "execution_count": 94,
   "id": "769af058-0294-49b4-a9df-f710286a5eaf",
   "metadata": {},
   "outputs": [],
   "source": [
    "import mod"
   ]
  },
  {
   "cell_type": "code",
   "execution_count": 95,
   "id": "e0f8c292-627b-4d12-a714-b07cab9b1530",
   "metadata": {},
   "outputs": [
    {
     "data": {
      "text/plain": [
       "'D:\\\\Hacktiv8\\\\mod.py'"
      ]
     },
     "execution_count": 95,
     "metadata": {},
     "output_type": "execute_result"
    }
   ],
   "source": [
    "mod.__file__"
   ]
  },
  {
   "cell_type": "code",
   "execution_count": 106,
   "id": "b2979a6a-7caf-4a38-a2e8-12e377d4b96f",
   "metadata": {},
   "outputs": [
    {
     "data": {
      "text/plain": [
       "[100, 200, 300]"
      ]
     },
     "execution_count": 106,
     "metadata": {},
     "output_type": "execute_result"
    }
   ],
   "source": [
    "mod.a"
   ]
  },
  {
   "cell_type": "code",
   "execution_count": 107,
   "id": "5be86ecb-7fcf-47ab-8735-81189cdde96c",
   "metadata": {},
   "outputs": [
    {
     "name": "stdout",
     "output_type": "stream",
     "text": [
      "arg = Hello World!\n"
     ]
    }
   ],
   "source": [
    "mod.foo('Hello World!')"
   ]
  },
  {
   "cell_type": "code",
   "execution_count": 108,
   "id": "fc214719-a696-4fab-9d94-aa34d1ee7c18",
   "metadata": {},
   "outputs": [
    {
     "name": "stdout",
     "output_type": "stream",
     "text": [
      "<mod.Foo object at 0x000002167B930E20>\n"
     ]
    }
   ],
   "source": [
    "x = mod.Foo()\n",
    "print(x)"
   ]
  },
  {
   "cell_type": "code",
   "execution_count": 113,
   "id": "5e8dd944-0858-4ceb-ae33-4af3bbb88bc5",
   "metadata": {},
   "outputs": [
    {
     "name": "stdout",
     "output_type": "stream",
     "text": [
      "arg = Welcome\n"
     ]
    }
   ],
   "source": [
    "from mod import s ,foo\n",
    "foo('Welcome')"
   ]
  },
  {
   "cell_type": "code",
   "execution_count": 130,
   "id": "fbeb5f53-b6eb-4caf-8cc1-d01ae1264849",
   "metadata": {},
   "outputs": [
    {
     "ename": "SyntaxError",
     "evalue": "import * only allowed at module level (1924067747.py, line 1)",
     "output_type": "error",
     "traceback": [
      "\u001b[1;36m  Cell \u001b[1;32mIn[130], line 1\u001b[1;36m\u001b[0m\n\u001b[1;33m    def bar():\u001b[0m\n\u001b[1;37m    ^\u001b[0m\n\u001b[1;31mSyntaxError\u001b[0m\u001b[1;31m:\u001b[0m import * only allowed at module level\n"
     ]
    }
   ],
   "source": [
    "def bar():\n",
    "    from mod_library import *\n",
    "    foot('Hello World!')\n",
    "    print(foot)\n",
    "bar()\n",
    "foot"
   ]
  },
  {
   "cell_type": "markdown",
   "id": "c7ec9518-2c13-4cc1-aa90-42f6109bfea3",
   "metadata": {},
   "source": [
    "try-except"
   ]
  },
  {
   "cell_type": "markdown",
   "id": "5dd8b544-9d63-44ba-8faf-ca4bbf001c90",
   "metadata": {},
   "source": [
    "### Try:\n",
    "### [Code Block]\n",
    "### Except:\n",
    "### [Error Operation]"
   ]
  },
  {
   "cell_type": "code",
   "execution_count": 132,
   "id": "3bb7e0d2-0ea7-4b80-a904-46d4acb67070",
   "metadata": {},
   "outputs": [
    {
     "name": "stdout",
     "output_type": "stream",
     "text": [
      "Object Not Found in Module\n"
     ]
    }
   ],
   "source": [
    "try:\n",
    "    from mod import haha\n",
    "except:\n",
    "    print('Object Not FOund in Module')"
   ]
  },
  {
   "cell_type": "code",
   "execution_count": 134,
   "id": "2911bfc3-6066-4b75-8b8c-4832c82ab45d",
   "metadata": {},
   "outputs": [
    {
     "ename": "ImportError",
     "evalue": "cannot import name 'haha' from 'mod' (D:\\Hacktiv8\\mod.py)",
     "output_type": "error",
     "traceback": [
      "\u001b[1;31m---------------------------------------------------------------------------\u001b[0m",
      "\u001b[1;31mImportError\u001b[0m                               Traceback (most recent call last)",
      "Cell \u001b[1;32mIn[134], line 1\u001b[0m\n\u001b[1;32m----> 1\u001b[0m \u001b[38;5;28;01mfrom\u001b[39;00m \u001b[38;5;21;01mmod\u001b[39;00m \u001b[38;5;28;01mimport\u001b[39;00m haha\n",
      "\u001b[1;31mImportError\u001b[0m: cannot import name 'haha' from 'mod' (D:\\Hacktiv8\\mod.py)"
     ]
    }
   ],
   "source": [
    "from mod import haha\n"
   ]
  },
  {
   "cell_type": "code",
   "execution_count": 140,
   "id": "34948cd2-b88c-4a94-87c8-773e97579277",
   "metadata": {},
   "outputs": [],
   "source": [
    "import mod"
   ]
  },
  {
   "cell_type": "code",
   "execution_count": 145,
   "id": "910abd58-1f4f-49e2-a200-1869f5225e4d",
   "metadata": {},
   "outputs": [
    {
     "data": {
      "text/plain": [
       "<module 'mod3' from 'D:\\\\Hacktiv8\\\\mod3.py'>"
      ]
     },
     "execution_count": 145,
     "metadata": {},
     "output_type": "execute_result"
    }
   ],
   "source": [
    "mod3"
   ]
  },
  {
   "cell_type": "code",
   "execution_count": 149,
   "id": "db032084-795c-430f-81a8-9aea0da3d406",
   "metadata": {},
   "outputs": [
    {
     "name": "stdout",
     "output_type": "stream",
     "text": [
      "Hello World\n",
      "I am Fachri\n",
      "arg = This is an argument\n",
      "Perubahan\n",
      "[100, 200, 300]\n"
     ]
    },
    {
     "data": {
      "text/plain": [
       "<module 'mod3' from 'D:\\\\Hacktiv8\\\\mod3.py'>"
      ]
     },
     "execution_count": 149,
     "metadata": {},
     "output_type": "execute_result"
    }
   ],
   "source": [
    "import importlib\n",
    "importlib.reload(mod3)"
   ]
  },
  {
   "cell_type": "markdown",
   "id": "0dc2b1a5-bdb3-4066-a27d-c7e2dca0db60",
   "metadata": {},
   "source": [
    "## Package"
   ]
  },
  {
   "cell_type": "code",
   "execution_count": 152,
   "id": "926d6fb6-647d-4533-96da-21f745e86712",
   "metadata": {},
   "outputs": [],
   "source": [
    "import pkg.mod, pkg.fact"
   ]
  },
  {
   "cell_type": "code",
   "execution_count": 153,
   "id": "21f27476-1ab4-492c-adb4-d4893cf2b4b3",
   "metadata": {},
   "outputs": [
    {
     "name": "stdout",
     "output_type": "stream",
     "text": [
      "arg = Saya\n"
     ]
    }
   ],
   "source": [
    "pkg.mod.foo('Saya')"
   ]
  },
  {
   "cell_type": "code",
   "execution_count": 156,
   "id": "64c0d456-a828-4d8c-bbc5-785cfc32f805",
   "metadata": {},
   "outputs": [
    {
     "data": {
      "text/plain": [
       "720"
      ]
     },
     "execution_count": 156,
     "metadata": {},
     "output_type": "execute_result"
    }
   ],
   "source": [
    "pkg.fact.fact(6)"
   ]
  },
  {
   "cell_type": "code",
   "execution_count": 164,
   "id": "2476a90e-a39c-47d4-a042-dbd352a38b39",
   "metadata": {},
   "outputs": [],
   "source": [
    "from pkg import mod,fact"
   ]
  },
  {
   "cell_type": "code",
   "execution_count": 165,
   "id": "75d881dd-8e1e-4884-ae48-35b60adda485",
   "metadata": {},
   "outputs": [
    {
     "name": "stdout",
     "output_type": "stream",
     "text": [
      "arg = Saya\n"
     ]
    }
   ],
   "source": [
    "mod.foo('Saya')"
   ]
  },
  {
   "cell_type": "code",
   "execution_count": 166,
   "id": "9032cbca-73bb-45e7-b1af-5c0c852c0484",
   "metadata": {},
   "outputs": [
    {
     "data": {
      "text/plain": [
       "120"
      ]
     },
     "execution_count": 166,
     "metadata": {},
     "output_type": "execute_result"
    }
   ],
   "source": [
    "fact.fact(5)"
   ]
  },
  {
   "cell_type": "code",
   "execution_count": 163,
   "id": "bd909079-bc6d-42da-a91c-aaac115065fd",
   "metadata": {},
   "outputs": [
    {
     "data": {
      "text/plain": [
       "720"
      ]
     },
     "execution_count": 163,
     "metadata": {},
     "output_type": "execute_result"
    }
   ],
   "source": [
    "from fact import fact\n",
    "fact(6)"
   ]
  },
  {
   "cell_type": "code",
   "execution_count": 169,
   "id": "1af5211e-0e88-41ed-9623-87e545562e01",
   "metadata": {},
   "outputs": [
    {
     "name": "stdout",
     "output_type": "stream",
     "text": [
      "Requirement already satisfied: pandas in c:\\users\\fachr\\anaconda3\\lib\\site-packages (1.5.2)\n",
      "Requirement already satisfied: numpy in c:\\users\\fachr\\anaconda3\\lib\\site-packages (1.23.5)\n",
      "Requirement already satisfied: seaborn in c:\\users\\fachr\\anaconda3\\lib\\site-packages (0.12.2)\n",
      "Requirement already satisfied: pytz>=2020.1 in c:\\users\\fachr\\anaconda3\\lib\\site-packages (from pandas) (2022.7)\n",
      "Requirement already satisfied: python-dateutil>=2.8.1 in c:\\users\\fachr\\anaconda3\\lib\\site-packages (from pandas) (2.8.2)\n",
      "Requirement already satisfied: matplotlib!=3.6.1,>=3.1 in c:\\users\\fachr\\anaconda3\\lib\\site-packages (from seaborn) (3.7.0)\n",
      "Requirement already satisfied: packaging>=20.0 in c:\\users\\fachr\\anaconda3\\lib\\site-packages (from matplotlib!=3.6.1,>=3.1->seaborn) (22.0)\n",
      "Requirement already satisfied: pyparsing>=2.3.1 in c:\\users\\fachr\\anaconda3\\lib\\site-packages (from matplotlib!=3.6.1,>=3.1->seaborn) (3.0.9)\n",
      "Requirement already satisfied: pillow>=6.2.0 in c:\\users\\fachr\\anaconda3\\lib\\site-packages (from matplotlib!=3.6.1,>=3.1->seaborn) (9.4.0)\n",
      "Requirement already satisfied: contourpy>=1.0.1 in c:\\users\\fachr\\anaconda3\\lib\\site-packages (from matplotlib!=3.6.1,>=3.1->seaborn) (1.0.5)\n",
      "Requirement already satisfied: kiwisolver>=1.0.1 in c:\\users\\fachr\\anaconda3\\lib\\site-packages (from matplotlib!=3.6.1,>=3.1->seaborn) (1.4.4)\n",
      "Requirement already satisfied: importlib-resources>=3.2.0 in c:\\users\\fachr\\anaconda3\\lib\\site-packages (from matplotlib!=3.6.1,>=3.1->seaborn) (5.2.0)\n",
      "Requirement already satisfied: fonttools>=4.22.0 in c:\\users\\fachr\\anaconda3\\lib\\site-packages (from matplotlib!=3.6.1,>=3.1->seaborn) (4.25.0)\n",
      "Requirement already satisfied: cycler>=0.10 in c:\\users\\fachr\\anaconda3\\lib\\site-packages (from matplotlib!=3.6.1,>=3.1->seaborn) (0.11.0)\n",
      "Requirement already satisfied: six>=1.5 in c:\\users\\fachr\\anaconda3\\lib\\site-packages (from python-dateutil>=2.8.1->pandas) (1.16.0)\n",
      "Requirement already satisfied: zipp>=3.1.0 in c:\\users\\fachr\\anaconda3\\lib\\site-packages (from importlib-resources>=3.2.0->matplotlib!=3.6.1,>=3.1->seaborn) (3.11.0)\n"
     ]
    }
   ],
   "source": [
    "!pip install pandas numpy seaborn"
   ]
  },
  {
   "cell_type": "markdown",
   "id": "2c5dcb5f-858c-402e-882d-25b9396fb626",
   "metadata": {},
   "source": [
    "## Matplotlib, Pandas, Numpy, Seaborn, Statsmodels, Scikitlearn"
   ]
  },
  {
   "cell_type": "code",
   "execution_count": 114,
   "id": "74eeeb36-2bbe-4e01-bd8f-de095bc24758",
   "metadata": {},
   "outputs": [],
   "source": [
    "from mod import *"
   ]
  },
  {
   "cell_type": "code",
   "execution_count": 122,
   "id": "4f8675f3-3648-4486-99ce-90f722c6a7be",
   "metadata": {},
   "outputs": [
    {
     "name": "stdout",
     "output_type": "stream",
     "text": [
      "<mod.Foo object at 0x000002167B96C970>\n"
     ]
    }
   ],
   "source": [
    "x = Foo()\n",
    "print(x)"
   ]
  },
  {
   "cell_type": "code",
   "execution_count": 138,
   "id": "79006bbf-7734-4024-8108-cbf6541d9d97",
   "metadata": {},
   "outputs": [],
   "source": [
    "import mod2"
   ]
  },
  {
   "cell_type": "code",
   "execution_count": 115,
   "id": "f00b63d8-bf89-4f84-bd29-1c2a217589f6",
   "metadata": {},
   "outputs": [
    {
     "data": {
      "text/plain": [
       "['Foo',\n",
       " 'In',\n",
       " 'Out',\n",
       " '_',\n",
       " '_10',\n",
       " '_102',\n",
       " '_104',\n",
       " '_105',\n",
       " '_106',\n",
       " '_109',\n",
       " '_110',\n",
       " '_112',\n",
       " '_14',\n",
       " '_15',\n",
       " '_17',\n",
       " '_19',\n",
       " '_2',\n",
       " '_21',\n",
       " '_22',\n",
       " '_3',\n",
       " '_4',\n",
       " '_42',\n",
       " '_44',\n",
       " '_45',\n",
       " '_46',\n",
       " '_47',\n",
       " '_48',\n",
       " '_49',\n",
       " '_5',\n",
       " '_50',\n",
       " '_51',\n",
       " '_54',\n",
       " '_6',\n",
       " '_60',\n",
       " '_7',\n",
       " '_85',\n",
       " '_86',\n",
       " '_87',\n",
       " '_89',\n",
       " '_9',\n",
       " '_93',\n",
       " '_95',\n",
       " '_96',\n",
       " '_99',\n",
       " '__',\n",
       " '___',\n",
       " '__builtin__',\n",
       " '__builtins__',\n",
       " '__doc__',\n",
       " '__loader__',\n",
       " '__name__',\n",
       " '__package__',\n",
       " '__spec__',\n",
       " '_dh',\n",
       " '_i',\n",
       " '_i1',\n",
       " '_i10',\n",
       " '_i100',\n",
       " '_i101',\n",
       " '_i102',\n",
       " '_i103',\n",
       " '_i104',\n",
       " '_i105',\n",
       " '_i106',\n",
       " '_i107',\n",
       " '_i108',\n",
       " '_i109',\n",
       " '_i11',\n",
       " '_i110',\n",
       " '_i111',\n",
       " '_i112',\n",
       " '_i113',\n",
       " '_i114',\n",
       " '_i115',\n",
       " '_i12',\n",
       " '_i13',\n",
       " '_i14',\n",
       " '_i15',\n",
       " '_i16',\n",
       " '_i17',\n",
       " '_i18',\n",
       " '_i19',\n",
       " '_i2',\n",
       " '_i20',\n",
       " '_i21',\n",
       " '_i22',\n",
       " '_i23',\n",
       " '_i24',\n",
       " '_i25',\n",
       " '_i26',\n",
       " '_i27',\n",
       " '_i28',\n",
       " '_i29',\n",
       " '_i3',\n",
       " '_i30',\n",
       " '_i31',\n",
       " '_i32',\n",
       " '_i33',\n",
       " '_i34',\n",
       " '_i35',\n",
       " '_i36',\n",
       " '_i37',\n",
       " '_i38',\n",
       " '_i39',\n",
       " '_i4',\n",
       " '_i40',\n",
       " '_i41',\n",
       " '_i42',\n",
       " '_i43',\n",
       " '_i44',\n",
       " '_i45',\n",
       " '_i46',\n",
       " '_i47',\n",
       " '_i48',\n",
       " '_i49',\n",
       " '_i5',\n",
       " '_i50',\n",
       " '_i51',\n",
       " '_i52',\n",
       " '_i53',\n",
       " '_i54',\n",
       " '_i55',\n",
       " '_i56',\n",
       " '_i57',\n",
       " '_i58',\n",
       " '_i59',\n",
       " '_i6',\n",
       " '_i60',\n",
       " '_i61',\n",
       " '_i62',\n",
       " '_i63',\n",
       " '_i64',\n",
       " '_i65',\n",
       " '_i66',\n",
       " '_i67',\n",
       " '_i68',\n",
       " '_i69',\n",
       " '_i7',\n",
       " '_i70',\n",
       " '_i71',\n",
       " '_i72',\n",
       " '_i73',\n",
       " '_i74',\n",
       " '_i75',\n",
       " '_i76',\n",
       " '_i77',\n",
       " '_i78',\n",
       " '_i79',\n",
       " '_i8',\n",
       " '_i80',\n",
       " '_i81',\n",
       " '_i82',\n",
       " '_i83',\n",
       " '_i84',\n",
       " '_i85',\n",
       " '_i86',\n",
       " '_i87',\n",
       " '_i88',\n",
       " '_i89',\n",
       " '_i9',\n",
       " '_i90',\n",
       " '_i91',\n",
       " '_i92',\n",
       " '_i93',\n",
       " '_i94',\n",
       " '_i95',\n",
       " '_i96',\n",
       " '_i97',\n",
       " '_i98',\n",
       " '_i99',\n",
       " '_ih',\n",
       " '_ii',\n",
       " '_iii',\n",
       " '_oh',\n",
       " 'a',\n",
       " 'exit',\n",
       " 'foo',\n",
       " 'function_a',\n",
       " 'function_b',\n",
       " 'function_summary',\n",
       " 'get_ipython',\n",
       " 'kali',\n",
       " 'list_summary',\n",
       " 'math',\n",
       " 'mod',\n",
       " 'mod_library',\n",
       " 'module',\n",
       " 'mylist',\n",
       " 'np',\n",
       " 'open',\n",
       " 'pandas',\n",
       " 'perkalian',\n",
       " 'pkg',\n",
       " 'plt',\n",
       " 'printinfo',\n",
       " 'quit',\n",
       " 'rambutan',\n",
       " 'regutil',\n",
       " 's',\n",
       " 'str_joiner',\n",
       " 'sum',\n",
       " 'sys',\n",
       " 'total',\n",
       " 'variabel_a',\n",
       " 'variabel_kali',\n",
       " 'x',\n",
       " 'y',\n",
       " 'z']"
      ]
     },
     "execution_count": 115,
     "metadata": {},
     "output_type": "execute_result"
    }
   ],
   "source": [
    "dir()"
   ]
  },
  {
   "cell_type": "markdown",
   "id": "d4beca83-63cb-452e-8681-30e551a1478d",
   "metadata": {
    "jp-MarkdownHeadingCollapsed": true,
    "tags": []
   },
   "source": [
    "#### As sebagai alias"
   ]
  },
  {
   "cell_type": "code",
   "execution_count": 97,
   "id": "afeb3fb2-74f6-48b6-8e74-747066997afe",
   "metadata": {},
   "outputs": [],
   "source": [
    "import numpy as np"
   ]
  },
  {
   "cell_type": "code",
   "execution_count": 103,
   "id": "d656dc35-0479-48c4-86b0-7706e5b8004c",
   "metadata": {},
   "outputs": [],
   "source": [
    "import matplotlib.pyplot as plt"
   ]
  },
  {
   "cell_type": "code",
   "execution_count": 104,
   "id": "52f23ecd-b6bb-4db2-8b7b-3404317dcac8",
   "metadata": {},
   "outputs": [
    {
     "data": {
      "text/plain": [
       "<module 'matplotlib.pyplot' from 'C:\\\\Users\\\\fachr\\\\anaconda3\\\\lib\\\\site-packages\\\\matplotlib\\\\pyplot.py'>"
      ]
     },
     "execution_count": 104,
     "metadata": {},
     "output_type": "execute_result"
    }
   ],
   "source": []
  },
  {
   "cell_type": "code",
   "execution_count": 99,
   "id": "2f85e88d-45e7-4112-bc0a-21fb2ad1f68d",
   "metadata": {},
   "outputs": [
    {
     "data": {
      "text/plain": [
       "<module 'numpy' from 'C:\\\\Users\\\\fachr\\\\anaconda3\\\\lib\\\\site-packages\\\\numpy\\\\__init__.py'>"
      ]
     },
     "execution_count": 99,
     "metadata": {},
     "output_type": "execute_result"
    }
   ],
   "source": [
    "np"
   ]
  },
  {
   "cell_type": "code",
   "execution_count": 96,
   "id": "56929fa6-65ce-4183-be2d-cde628e60834",
   "metadata": {},
   "outputs": [
    {
     "data": {
      "text/plain": [
       "'C:\\\\Users\\\\fachr\\\\anaconda3\\\\lib\\\\site-packages\\\\numpy\\\\__init__.py'"
      ]
     },
     "execution_count": 96,
     "metadata": {},
     "output_type": "execute_result"
    }
   ],
   "source": [
    "np.__file__"
   ]
  },
  {
   "cell_type": "code",
   "execution_count": 87,
   "id": "6f4e39e1-3435-4b76-abf1-151d05718d6b",
   "metadata": {},
   "outputs": [
    {
     "data": {
      "text/plain": [
       "['In',\n",
       " 'Out',\n",
       " '_',\n",
       " '_10',\n",
       " '_14',\n",
       " '_15',\n",
       " '_17',\n",
       " '_19',\n",
       " '_2',\n",
       " '_21',\n",
       " '_22',\n",
       " '_3',\n",
       " '_4',\n",
       " '_42',\n",
       " '_44',\n",
       " '_45',\n",
       " '_46',\n",
       " '_47',\n",
       " '_48',\n",
       " '_49',\n",
       " '_5',\n",
       " '_50',\n",
       " '_51',\n",
       " '_54',\n",
       " '_6',\n",
       " '_60',\n",
       " '_7',\n",
       " '_85',\n",
       " '_86',\n",
       " '_9',\n",
       " '__',\n",
       " '___',\n",
       " '__builtin__',\n",
       " '__builtins__',\n",
       " '__doc__',\n",
       " '__loader__',\n",
       " '__name__',\n",
       " '__package__',\n",
       " '__spec__',\n",
       " '_dh',\n",
       " '_i',\n",
       " '_i1',\n",
       " '_i10',\n",
       " '_i11',\n",
       " '_i12',\n",
       " '_i13',\n",
       " '_i14',\n",
       " '_i15',\n",
       " '_i16',\n",
       " '_i17',\n",
       " '_i18',\n",
       " '_i19',\n",
       " '_i2',\n",
       " '_i20',\n",
       " '_i21',\n",
       " '_i22',\n",
       " '_i23',\n",
       " '_i24',\n",
       " '_i25',\n",
       " '_i26',\n",
       " '_i27',\n",
       " '_i28',\n",
       " '_i29',\n",
       " '_i3',\n",
       " '_i30',\n",
       " '_i31',\n",
       " '_i32',\n",
       " '_i33',\n",
       " '_i34',\n",
       " '_i35',\n",
       " '_i36',\n",
       " '_i37',\n",
       " '_i38',\n",
       " '_i39',\n",
       " '_i4',\n",
       " '_i40',\n",
       " '_i41',\n",
       " '_i42',\n",
       " '_i43',\n",
       " '_i44',\n",
       " '_i45',\n",
       " '_i46',\n",
       " '_i47',\n",
       " '_i48',\n",
       " '_i49',\n",
       " '_i5',\n",
       " '_i50',\n",
       " '_i51',\n",
       " '_i52',\n",
       " '_i53',\n",
       " '_i54',\n",
       " '_i55',\n",
       " '_i56',\n",
       " '_i57',\n",
       " '_i58',\n",
       " '_i59',\n",
       " '_i6',\n",
       " '_i60',\n",
       " '_i61',\n",
       " '_i62',\n",
       " '_i63',\n",
       " '_i64',\n",
       " '_i65',\n",
       " '_i66',\n",
       " '_i67',\n",
       " '_i68',\n",
       " '_i69',\n",
       " '_i7',\n",
       " '_i70',\n",
       " '_i71',\n",
       " '_i72',\n",
       " '_i73',\n",
       " '_i74',\n",
       " '_i75',\n",
       " '_i76',\n",
       " '_i77',\n",
       " '_i78',\n",
       " '_i79',\n",
       " '_i8',\n",
       " '_i80',\n",
       " '_i81',\n",
       " '_i82',\n",
       " '_i83',\n",
       " '_i84',\n",
       " '_i85',\n",
       " '_i86',\n",
       " '_i87',\n",
       " '_i9',\n",
       " '_ih',\n",
       " '_ii',\n",
       " '_iii',\n",
       " '_oh',\n",
       " 'a',\n",
       " 'exit',\n",
       " 'function_a',\n",
       " 'function_b',\n",
       " 'function_summary',\n",
       " 'get_ipython',\n",
       " 'kali',\n",
       " 'list_summary',\n",
       " 'math',\n",
       " 'module',\n",
       " 'mylist',\n",
       " 'np',\n",
       " 'open',\n",
       " 'pandas',\n",
       " 'perkalian',\n",
       " 'pkg',\n",
       " 'printinfo',\n",
       " 'quit',\n",
       " 'str_joiner',\n",
       " 'sum',\n",
       " 'sys',\n",
       " 'total',\n",
       " 'variabel_kali',\n",
       " 'x',\n",
       " 'y',\n",
       " 'z']"
      ]
     },
     "execution_count": 87,
     "metadata": {},
     "output_type": "execute_result"
    }
   ],
   "source": [
    "dir()"
   ]
  },
  {
   "cell_type": "code",
   "execution_count": null,
   "id": "79a4d741-e3f3-4e98-91c3-bcc9a8e7fbc8",
   "metadata": {},
   "outputs": [],
   "source": []
  }
 ],
 "metadata": {
  "kernelspec": {
   "display_name": "Python 3 (ipykernel)",
   "language": "python",
   "name": "python3"
  },
  "language_info": {
   "codemirror_mode": {
    "name": "ipython",
    "version": 3
   },
   "file_extension": ".py",
   "mimetype": "text/x-python",
   "name": "python",
   "nbconvert_exporter": "python",
   "pygments_lexer": "ipython3",
   "version": "3.8.8"
  }
 },
 "nbformat": 4,
 "nbformat_minor": 5
}
